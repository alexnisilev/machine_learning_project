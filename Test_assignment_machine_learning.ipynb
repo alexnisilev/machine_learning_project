{
 "cells": [
  {
   "cell_type": "markdown",
   "metadata": {},
   "source": [
    "# Preliminary dataset settings and data researching"
   ]
  },
  {
   "cell_type": "code",
   "execution_count": 648,
   "metadata": {},
   "outputs": [
    {
     "data": {
      "text/html": [
       "<div>\n",
       "<style scoped>\n",
       "    .dataframe tbody tr th:only-of-type {\n",
       "        vertical-align: middle;\n",
       "    }\n",
       "\n",
       "    .dataframe tbody tr th {\n",
       "        vertical-align: top;\n",
       "    }\n",
       "\n",
       "    .dataframe thead th {\n",
       "        text-align: right;\n",
       "    }\n",
       "</style>\n",
       "<table border=\"1\" class=\"dataframe\">\n",
       "  <thead>\n",
       "    <tr style=\"text-align: right;\">\n",
       "      <th></th>\n",
       "      <th>date</th>\n",
       "      <th>hits_today</th>\n",
       "      <th>feedback_click_today</th>\n",
       "      <th>choosen_add_today</th>\n",
       "      <th>choosen_remove_today</th>\n",
       "      <th>errors_today</th>\n",
       "      <th>size_table_click_today</th>\n",
       "      <th>banner_click_today</th>\n",
       "      <th>purchases_event_today</th>\n",
       "      <th>remove_events_today</th>\n",
       "      <th>checkout_events_today</th>\n",
       "      <th>detail_events_today</th>\n",
       "      <th>add_events_today</th>\n",
       "      <th>click_events_today</th>\n",
       "      <th>sessions_today</th>\n",
       "      <th>ball_click_today</th>\n",
       "      <th>form_send_today</th>\n",
       "      <th>seen_vertical_today</th>\n",
       "      <th>fast_view_today</th>\n",
       "      <th>transaction_revenue_today</th>\n",
       "    </tr>\n",
       "  </thead>\n",
       "  <tbody>\n",
       "    <tr>\n",
       "      <th>0</th>\n",
       "      <td>2019-02-02</td>\n",
       "      <td>408859</td>\n",
       "      <td>0</td>\n",
       "      <td>73</td>\n",
       "      <td>22</td>\n",
       "      <td>0</td>\n",
       "      <td>0</td>\n",
       "      <td>2</td>\n",
       "      <td>60</td>\n",
       "      <td>0</td>\n",
       "      <td>1157</td>\n",
       "      <td>2366</td>\n",
       "      <td>129.0</td>\n",
       "      <td>2148</td>\n",
       "      <td>7716</td>\n",
       "      <td>8</td>\n",
       "      <td>78</td>\n",
       "      <td>682</td>\n",
       "      <td>912</td>\n",
       "      <td>1311360.0</td>\n",
       "    </tr>\n",
       "    <tr>\n",
       "      <th>1</th>\n",
       "      <td>2019-02-03</td>\n",
       "      <td>387178</td>\n",
       "      <td>0</td>\n",
       "      <td>51</td>\n",
       "      <td>8</td>\n",
       "      <td>0</td>\n",
       "      <td>0</td>\n",
       "      <td>0</td>\n",
       "      <td>48</td>\n",
       "      <td>0</td>\n",
       "      <td>1103</td>\n",
       "      <td>2065</td>\n",
       "      <td>87.0</td>\n",
       "      <td>2062</td>\n",
       "      <td>7601</td>\n",
       "      <td>3</td>\n",
       "      <td>81</td>\n",
       "      <td>586</td>\n",
       "      <td>783</td>\n",
       "      <td>1066500.0</td>\n",
       "    </tr>\n",
       "    <tr>\n",
       "      <th>2</th>\n",
       "      <td>2019-02-04</td>\n",
       "      <td>600668</td>\n",
       "      <td>0</td>\n",
       "      <td>191</td>\n",
       "      <td>10</td>\n",
       "      <td>0</td>\n",
       "      <td>0</td>\n",
       "      <td>1</td>\n",
       "      <td>82</td>\n",
       "      <td>0</td>\n",
       "      <td>1173</td>\n",
       "      <td>3523</td>\n",
       "      <td>148.0</td>\n",
       "      <td>3621</td>\n",
       "      <td>13371</td>\n",
       "      <td>7</td>\n",
       "      <td>123</td>\n",
       "      <td>442</td>\n",
       "      <td>1528</td>\n",
       "      <td>2188150.0</td>\n",
       "    </tr>\n",
       "    <tr>\n",
       "      <th>3</th>\n",
       "      <td>2019-02-05</td>\n",
       "      <td>630164</td>\n",
       "      <td>0</td>\n",
       "      <td>43</td>\n",
       "      <td>5</td>\n",
       "      <td>0</td>\n",
       "      <td>0</td>\n",
       "      <td>0</td>\n",
       "      <td>66</td>\n",
       "      <td>0</td>\n",
       "      <td>1424</td>\n",
       "      <td>4012</td>\n",
       "      <td>165.0</td>\n",
       "      <td>3629</td>\n",
       "      <td>13148</td>\n",
       "      <td>10</td>\n",
       "      <td>98</td>\n",
       "      <td>349</td>\n",
       "      <td>1446</td>\n",
       "      <td>1471080.0</td>\n",
       "    </tr>\n",
       "    <tr>\n",
       "      <th>4</th>\n",
       "      <td>2019-02-06</td>\n",
       "      <td>586453</td>\n",
       "      <td>0</td>\n",
       "      <td>88</td>\n",
       "      <td>7</td>\n",
       "      <td>0</td>\n",
       "      <td>0</td>\n",
       "      <td>12</td>\n",
       "      <td>111</td>\n",
       "      <td>1</td>\n",
       "      <td>1823</td>\n",
       "      <td>4244</td>\n",
       "      <td>252.0</td>\n",
       "      <td>3375</td>\n",
       "      <td>11731</td>\n",
       "      <td>32</td>\n",
       "      <td>92</td>\n",
       "      <td>317</td>\n",
       "      <td>1365</td>\n",
       "      <td>5672230.0</td>\n",
       "    </tr>\n",
       "  </tbody>\n",
       "</table>\n",
       "</div>"
      ],
      "text/plain": [
       "         date  hits_today  feedback_click_today  choosen_add_today  \\\n",
       "0  2019-02-02      408859                     0                 73   \n",
       "1  2019-02-03      387178                     0                 51   \n",
       "2  2019-02-04      600668                     0                191   \n",
       "3  2019-02-05      630164                     0                 43   \n",
       "4  2019-02-06      586453                     0                 88   \n",
       "\n",
       "   choosen_remove_today  errors_today  size_table_click_today  \\\n",
       "0                    22             0                       0   \n",
       "1                     8             0                       0   \n",
       "2                    10             0                       0   \n",
       "3                     5             0                       0   \n",
       "4                     7             0                       0   \n",
       "\n",
       "   banner_click_today  purchases_event_today  remove_events_today  \\\n",
       "0                   2                     60                    0   \n",
       "1                   0                     48                    0   \n",
       "2                   1                     82                    0   \n",
       "3                   0                     66                    0   \n",
       "4                  12                    111                    1   \n",
       "\n",
       "   checkout_events_today  detail_events_today  add_events_today  \\\n",
       "0                   1157                 2366             129.0   \n",
       "1                   1103                 2065              87.0   \n",
       "2                   1173                 3523             148.0   \n",
       "3                   1424                 4012             165.0   \n",
       "4                   1823                 4244             252.0   \n",
       "\n",
       "   click_events_today  sessions_today  ball_click_today  form_send_today  \\\n",
       "0                2148            7716                 8               78   \n",
       "1                2062            7601                 3               81   \n",
       "2                3621           13371                 7              123   \n",
       "3                3629           13148                10               98   \n",
       "4                3375           11731                32               92   \n",
       "\n",
       "   seen_vertical_today  fast_view_today  transaction_revenue_today  \n",
       "0                  682              912                  1311360.0  \n",
       "1                  586              783                  1066500.0  \n",
       "2                  442             1528                  2188150.0  \n",
       "3                  349             1446                  1471080.0  \n",
       "4                  317             1365                  5672230.0  "
      ]
     },
     "execution_count": 648,
     "metadata": {},
     "output_type": "execute_result"
    }
   ],
   "source": [
    "import pandas as pd\n",
    "import numpy as np\n",
    "df = pd.read_csv('df_for_test.csv', index_col = 0)\n",
    "df.head()"
   ]
  },
  {
   "cell_type": "code",
   "execution_count": 649,
   "metadata": {},
   "outputs": [
    {
     "data": {
      "text/plain": [
       "date                          0\n",
       "hits_today                    0\n",
       "feedback_click_today          0\n",
       "choosen_add_today             0\n",
       "choosen_remove_today          0\n",
       "errors_today                  0\n",
       "size_table_click_today        0\n",
       "banner_click_today            0\n",
       "purchases_event_today         0\n",
       "remove_events_today           0\n",
       "checkout_events_today         0\n",
       "detail_events_today           0\n",
       "add_events_today             12\n",
       "click_events_today            0\n",
       "sessions_today                0\n",
       "ball_click_today              0\n",
       "form_send_today               0\n",
       "seen_vertical_today           0\n",
       "fast_view_today               0\n",
       "transaction_revenue_today     5\n",
       "dtype: int64"
      ]
     },
     "execution_count": 649,
     "metadata": {},
     "output_type": "execute_result"
    }
   ],
   "source": [
    "#Counting null values in columns to understand how much data is missed in columns\n",
    "df.isnull().sum()\n"
   ]
  },
  {
   "cell_type": "code",
   "execution_count": 650,
   "metadata": {},
   "outputs": [
    {
     "data": {
      "text/html": [
       "<div>\n",
       "<style scoped>\n",
       "    .dataframe tbody tr th:only-of-type {\n",
       "        vertical-align: middle;\n",
       "    }\n",
       "\n",
       "    .dataframe tbody tr th {\n",
       "        vertical-align: top;\n",
       "    }\n",
       "\n",
       "    .dataframe thead th {\n",
       "        text-align: right;\n",
       "    }\n",
       "</style>\n",
       "<table border=\"1\" class=\"dataframe\">\n",
       "  <thead>\n",
       "    <tr style=\"text-align: right;\">\n",
       "      <th></th>\n",
       "      <th>hits_today</th>\n",
       "      <th>feedback_click_today</th>\n",
       "      <th>choosen_add_today</th>\n",
       "      <th>choosen_remove_today</th>\n",
       "      <th>errors_today</th>\n",
       "      <th>size_table_click_today</th>\n",
       "      <th>banner_click_today</th>\n",
       "      <th>purchases_event_today</th>\n",
       "      <th>remove_events_today</th>\n",
       "      <th>checkout_events_today</th>\n",
       "      <th>detail_events_today</th>\n",
       "      <th>add_events_today</th>\n",
       "      <th>click_events_today</th>\n",
       "      <th>sessions_today</th>\n",
       "      <th>ball_click_today</th>\n",
       "      <th>form_send_today</th>\n",
       "      <th>seen_vertical_today</th>\n",
       "      <th>fast_view_today</th>\n",
       "      <th>transaction_revenue_today</th>\n",
       "    </tr>\n",
       "  </thead>\n",
       "  <tbody>\n",
       "    <tr>\n",
       "      <th>count</th>\n",
       "      <td>1.720000e+02</td>\n",
       "      <td>172.000000</td>\n",
       "      <td>172.000000</td>\n",
       "      <td>172.000000</td>\n",
       "      <td>172.0</td>\n",
       "      <td>172.000000</td>\n",
       "      <td>172.000000</td>\n",
       "      <td>172.000000</td>\n",
       "      <td>172.000000</td>\n",
       "      <td>172.000000</td>\n",
       "      <td>172.000000</td>\n",
       "      <td>160.000000</td>\n",
       "      <td>172.000000</td>\n",
       "      <td>172.000000</td>\n",
       "      <td>172.000000</td>\n",
       "      <td>172.000000</td>\n",
       "      <td>172.000000</td>\n",
       "      <td>172.000000</td>\n",
       "      <td>1.670000e+02</td>\n",
       "    </tr>\n",
       "    <tr>\n",
       "      <th>mean</th>\n",
       "      <td>6.873193e+05</td>\n",
       "      <td>102.383721</td>\n",
       "      <td>155.604651</td>\n",
       "      <td>13.959302</td>\n",
       "      <td>0.0</td>\n",
       "      <td>152.755814</td>\n",
       "      <td>225.726744</td>\n",
       "      <td>107.965116</td>\n",
       "      <td>49.250000</td>\n",
       "      <td>1444.581395</td>\n",
       "      <td>12993.988372</td>\n",
       "      <td>431.406250</td>\n",
       "      <td>3806.843023</td>\n",
       "      <td>12205.906977</td>\n",
       "      <td>13.430233</td>\n",
       "      <td>187.104651</td>\n",
       "      <td>3775.087209</td>\n",
       "      <td>506.901163</td>\n",
       "      <td>2.333011e+06</td>\n",
       "    </tr>\n",
       "    <tr>\n",
       "      <th>std</th>\n",
       "      <td>2.663284e+05</td>\n",
       "      <td>74.479742</td>\n",
       "      <td>78.160545</td>\n",
       "      <td>11.442895</td>\n",
       "      <td>0.0</td>\n",
       "      <td>113.439572</td>\n",
       "      <td>148.369307</td>\n",
       "      <td>46.696093</td>\n",
       "      <td>37.983395</td>\n",
       "      <td>716.361836</td>\n",
       "      <td>5085.258424</td>\n",
       "      <td>186.487772</td>\n",
       "      <td>1357.874476</td>\n",
       "      <td>3653.502830</td>\n",
       "      <td>7.806941</td>\n",
       "      <td>109.224917</td>\n",
       "      <td>6368.270827</td>\n",
       "      <td>693.767523</td>\n",
       "      <td>1.188868e+06</td>\n",
       "    </tr>\n",
       "    <tr>\n",
       "      <th>min</th>\n",
       "      <td>7.650000e+03</td>\n",
       "      <td>0.000000</td>\n",
       "      <td>0.000000</td>\n",
       "      <td>0.000000</td>\n",
       "      <td>0.0</td>\n",
       "      <td>0.000000</td>\n",
       "      <td>0.000000</td>\n",
       "      <td>0.000000</td>\n",
       "      <td>0.000000</td>\n",
       "      <td>0.000000</td>\n",
       "      <td>6.000000</td>\n",
       "      <td>0.000000</td>\n",
       "      <td>0.000000</td>\n",
       "      <td>33.000000</td>\n",
       "      <td>0.000000</td>\n",
       "      <td>0.000000</td>\n",
       "      <td>0.000000</td>\n",
       "      <td>0.000000</td>\n",
       "      <td>1.459100e+05</td>\n",
       "    </tr>\n",
       "    <tr>\n",
       "      <th>25%</th>\n",
       "      <td>5.469582e+05</td>\n",
       "      <td>9.000000</td>\n",
       "      <td>102.750000</td>\n",
       "      <td>6.000000</td>\n",
       "      <td>0.0</td>\n",
       "      <td>0.000000</td>\n",
       "      <td>65.000000</td>\n",
       "      <td>79.000000</td>\n",
       "      <td>4.000000</td>\n",
       "      <td>1013.250000</td>\n",
       "      <td>10581.500000</td>\n",
       "      <td>333.000000</td>\n",
       "      <td>3080.250000</td>\n",
       "      <td>10323.500000</td>\n",
       "      <td>8.000000</td>\n",
       "      <td>124.750000</td>\n",
       "      <td>136.500000</td>\n",
       "      <td>108.750000</td>\n",
       "      <td>1.567414e+06</td>\n",
       "    </tr>\n",
       "    <tr>\n",
       "      <th>50%</th>\n",
       "      <td>6.428965e+05</td>\n",
       "      <td>111.500000</td>\n",
       "      <td>145.000000</td>\n",
       "      <td>11.000000</td>\n",
       "      <td>0.0</td>\n",
       "      <td>180.000000</td>\n",
       "      <td>240.000000</td>\n",
       "      <td>104.000000</td>\n",
       "      <td>52.000000</td>\n",
       "      <td>1345.500000</td>\n",
       "      <td>13765.500000</td>\n",
       "      <td>412.000000</td>\n",
       "      <td>3711.000000</td>\n",
       "      <td>12389.500000</td>\n",
       "      <td>13.000000</td>\n",
       "      <td>174.500000</td>\n",
       "      <td>205.000000</td>\n",
       "      <td>162.000000</td>\n",
       "      <td>2.175710e+06</td>\n",
       "    </tr>\n",
       "    <tr>\n",
       "      <th>75%</th>\n",
       "      <td>8.124370e+05</td>\n",
       "      <td>160.750000</td>\n",
       "      <td>194.250000</td>\n",
       "      <td>18.000000</td>\n",
       "      <td>0.0</td>\n",
       "      <td>241.000000</td>\n",
       "      <td>315.500000</td>\n",
       "      <td>134.000000</td>\n",
       "      <td>72.250000</td>\n",
       "      <td>1824.000000</td>\n",
       "      <td>15972.250000</td>\n",
       "      <td>554.250000</td>\n",
       "      <td>4629.000000</td>\n",
       "      <td>14822.250000</td>\n",
       "      <td>18.000000</td>\n",
       "      <td>229.250000</td>\n",
       "      <td>6310.750000</td>\n",
       "      <td>421.500000</td>\n",
       "      <td>2.799308e+06</td>\n",
       "    </tr>\n",
       "    <tr>\n",
       "      <th>max</th>\n",
       "      <td>2.088954e+06</td>\n",
       "      <td>267.000000</td>\n",
       "      <td>390.000000</td>\n",
       "      <td>57.000000</td>\n",
       "      <td>0.0</td>\n",
       "      <td>407.000000</td>\n",
       "      <td>739.000000</td>\n",
       "      <td>287.000000</td>\n",
       "      <td>169.000000</td>\n",
       "      <td>3885.000000</td>\n",
       "      <td>29679.000000</td>\n",
       "      <td>1005.000000</td>\n",
       "      <td>8715.000000</td>\n",
       "      <td>19963.000000</td>\n",
       "      <td>47.000000</td>\n",
       "      <td>834.000000</td>\n",
       "      <td>26895.000000</td>\n",
       "      <td>2898.000000</td>\n",
       "      <td>7.412134e+06</td>\n",
       "    </tr>\n",
       "  </tbody>\n",
       "</table>\n",
       "</div>"
      ],
      "text/plain": [
       "         hits_today  feedback_click_today  choosen_add_today  \\\n",
       "count  1.720000e+02            172.000000         172.000000   \n",
       "mean   6.873193e+05            102.383721         155.604651   \n",
       "std    2.663284e+05             74.479742          78.160545   \n",
       "min    7.650000e+03              0.000000           0.000000   \n",
       "25%    5.469582e+05              9.000000         102.750000   \n",
       "50%    6.428965e+05            111.500000         145.000000   \n",
       "75%    8.124370e+05            160.750000         194.250000   \n",
       "max    2.088954e+06            267.000000         390.000000   \n",
       "\n",
       "       choosen_remove_today  errors_today  size_table_click_today  \\\n",
       "count            172.000000         172.0              172.000000   \n",
       "mean              13.959302           0.0              152.755814   \n",
       "std               11.442895           0.0              113.439572   \n",
       "min                0.000000           0.0                0.000000   \n",
       "25%                6.000000           0.0                0.000000   \n",
       "50%               11.000000           0.0              180.000000   \n",
       "75%               18.000000           0.0              241.000000   \n",
       "max               57.000000           0.0              407.000000   \n",
       "\n",
       "       banner_click_today  purchases_event_today  remove_events_today  \\\n",
       "count          172.000000             172.000000           172.000000   \n",
       "mean           225.726744             107.965116            49.250000   \n",
       "std            148.369307              46.696093            37.983395   \n",
       "min              0.000000               0.000000             0.000000   \n",
       "25%             65.000000              79.000000             4.000000   \n",
       "50%            240.000000             104.000000            52.000000   \n",
       "75%            315.500000             134.000000            72.250000   \n",
       "max            739.000000             287.000000           169.000000   \n",
       "\n",
       "       checkout_events_today  detail_events_today  add_events_today  \\\n",
       "count             172.000000           172.000000        160.000000   \n",
       "mean             1444.581395         12993.988372        431.406250   \n",
       "std               716.361836          5085.258424        186.487772   \n",
       "min                 0.000000             6.000000          0.000000   \n",
       "25%              1013.250000         10581.500000        333.000000   \n",
       "50%              1345.500000         13765.500000        412.000000   \n",
       "75%              1824.000000         15972.250000        554.250000   \n",
       "max              3885.000000         29679.000000       1005.000000   \n",
       "\n",
       "       click_events_today  sessions_today  ball_click_today  form_send_today  \\\n",
       "count          172.000000      172.000000        172.000000       172.000000   \n",
       "mean          3806.843023    12205.906977         13.430233       187.104651   \n",
       "std           1357.874476     3653.502830          7.806941       109.224917   \n",
       "min              0.000000       33.000000          0.000000         0.000000   \n",
       "25%           3080.250000    10323.500000          8.000000       124.750000   \n",
       "50%           3711.000000    12389.500000         13.000000       174.500000   \n",
       "75%           4629.000000    14822.250000         18.000000       229.250000   \n",
       "max           8715.000000    19963.000000         47.000000       834.000000   \n",
       "\n",
       "       seen_vertical_today  fast_view_today  transaction_revenue_today  \n",
       "count           172.000000       172.000000               1.670000e+02  \n",
       "mean           3775.087209       506.901163               2.333011e+06  \n",
       "std            6368.270827       693.767523               1.188868e+06  \n",
       "min               0.000000         0.000000               1.459100e+05  \n",
       "25%             136.500000       108.750000               1.567414e+06  \n",
       "50%             205.000000       162.000000               2.175710e+06  \n",
       "75%            6310.750000       421.500000               2.799308e+06  \n",
       "max           26895.000000      2898.000000               7.412134e+06  "
      ]
     },
     "execution_count": 650,
     "metadata": {},
     "output_type": "execute_result"
    }
   ],
   "source": [
    "#learning more about datasets. \n",
    "df.describe()"
   ]
  },
  {
   "cell_type": "markdown",
   "metadata": {},
   "source": [
    "It looks like columns \"errors_today\" and \"date\" will not be needed for our analysis: in 'errors_today' all values are equal zero, and 'date' column has the role of second index. Also we can learn that there is no text or bool data in dataset, only numerical."
   ]
  },
  {
   "cell_type": "code",
   "execution_count": 651,
   "metadata": {},
   "outputs": [],
   "source": [
    "df = df.drop('errors_today', axis = 1)\n",
    "train_df = df[:160].dropna()\n",
    "#Dropping rows with missing data. Not filling it because it could actually alter it if there is\n",
    "# data that doesn't have normal distribution\n",
    "test_df = df[160:]\n"
   ]
  },
  {
   "cell_type": "markdown",
   "metadata": {},
   "source": [
    "# Anomalies cleaning"
   ]
  },
  {
   "cell_type": "code",
   "execution_count": 652,
   "metadata": {},
   "outputs": [],
   "source": [
    "#importing libraries needed for anomalies cleaning\n",
    "import matplotlib.pyplot as plt\n",
    "%matplotlib inline\n",
    "import matplotlib.font_manager\n",
    "from scipy import stats\n",
    "from sklearn.preprocessing import scale\n",
    "from sklearn import svm\n",
    "from sklearn.decomposition import PCA"
   ]
  },
  {
   "cell_type": "markdown",
   "metadata": {},
   "source": [
    "* We shall keep all parameters, exept for index and date for machine learning. We'll keep it in numpy array params, also transforming them to float64 type. Also we'll scale all parameters for all the values lie between -1 and 1. It is important, because all variables become equally important for the result and variable size doesn't alter the result of training."
   ]
  },
  {
   "cell_type": "code",
   "execution_count": 653,
   "metadata": {},
   "outputs": [],
   "source": [
    "params = np.array(train_df.values[:,1:], dtype=\"float64\")\n",
    "params = scale(params) "
   ]
  },
  {
   "cell_type": "code",
   "execution_count": 654,
   "metadata": {},
   "outputs": [
    {
     "name": "stdout",
     "output_type": "stream",
     "text": [
      "155\n"
     ]
    }
   ],
   "source": [
    "#choosing two main components of the data using Scikit-learn Principal Component Analysis\n",
    "\n",
    "X = PCA(n_components=2).fit_transform(params)\n",
    "num = X.shape[0]\n",
    "# Choosing percentage of outline data\n",
    "OUTLIER_FRACTION = 0.05\n",
    "print(num)"
   ]
  },
  {
   "cell_type": "code",
   "execution_count": 655,
   "metadata": {},
   "outputs": [
    {
     "name": "stderr",
     "output_type": "stream",
     "text": [
      "e:\\ProgramData\\Anaconda3\\lib\\site-packages\\sklearn\\svm\\base.py:196: FutureWarning: The default value of gamma will change from 'auto' to 'scale' in version 0.22 to account better for unscaled features. Set gamma explicitly to 'auto' or 'scale' to avoid this warning.\n",
      "  \"avoid this warning.\", FutureWarning)\n"
     ]
    },
    {
     "data": {
      "text/plain": [
       "OneClassSVM(cache_size=200, coef0=0.0, degree=3, gamma='auto_deprecated',\n",
       "      kernel='rbf', max_iter=-1, nu=0.5, random_state=None, shrinking=True,\n",
       "      tol=0.001, verbose=False)"
      ]
     },
     "execution_count": 655,
     "metadata": {},
     "output_type": "execute_result"
    }
   ],
   "source": [
    "#One-class SVM allows to classify objects. Creating classifier with Hauss distribution and training the data\n",
    "\n",
    "clf = svm.OneClassSVM(kernel=\"rbf\")\n",
    "clf.fit(X)"
   ]
  },
  {
   "cell_type": "markdown",
   "metadata": {},
   "source": [
    "* Creating array dist_to_border, that saves the distance from data X to calculated border. After we chose the outliner fraction, we create the border indicator. If it is positive, the value is within borders, if it is negative, the value is considered being an anomaly."
   ]
  },
  {
   "cell_type": "code",
   "execution_count": 656,
   "metadata": {},
   "outputs": [
    {
     "name": "stderr",
     "output_type": "stream",
     "text": [
      "e:\\ProgramData\\Anaconda3\\lib\\site-packages\\scipy\\stats\\stats.py:1713: FutureWarning: Using a non-tuple sequence for multidimensional indexing is deprecated; use `arr[tuple(seq)]` instead of `arr[seq]`. In the future this will be interpreted as an array index, `arr[np.array(seq)]`, which will result either in an error or a different result.\n",
      "  return np.add.reduce(sorted[indexer] * weights, axis=axis) / sumval\n"
     ]
    }
   ],
   "source": [
    "dist_to_border = clf.decision_function(X).ravel()\n",
    "threshold = stats.scoreatpercentile(dist_to_border,\n",
    "            100 * OUTLIER_FRACTION)\n",
    "is_inlier = dist_to_border > threshold"
   ]
  },
  {
   "cell_type": "markdown",
   "metadata": {},
   "source": [
    "# Building scatter plot, illustrating clasterization and anomalies "
   ]
  },
  {
   "cell_type": "code",
   "execution_count": 657,
   "metadata": {},
   "outputs": [
    {
     "data": {
      "image/png": "[encoded data removed]",
      "text/plain": [
       "<Figure size 432x288 with 1 Axes>"
      ]
     },
     "metadata": {
      "needs_background": "light"
     },
     "output_type": "display_data"
    }
   ],
   "source": [
    "xx, yy = np.meshgrid(np.linspace(-7, 7, 500), np.linspace(-7, 7, 500))\n",
    "n_inliers = int((1. - OUTLIER_FRACTION) * num)\n",
    "n_outliers = int(OUTLIER_FRACTION * num)\n",
    "Z = clf.decision_function(np.c_[xx.ravel(), yy.ravel()])\n",
    "Z = Z.reshape(xx.shape)\n",
    "plt.title(\"Outlier detection\")\n",
    "plt.contourf(xx, yy, Z, levels=np.linspace(Z.min(), threshold, 7),\n",
    "                         cmap=plt.cm.Blues_r)\n",
    "a = plt.contour(xx, yy, Z, levels=[threshold],\n",
    "                            linewidths=2, colors='red')\n",
    "plt.contourf(xx, yy, Z, levels=[threshold, Z.max()],\n",
    "                         colors='orange')\n",
    "b = plt.scatter(X[is_inlier == 0, 0], X[is_inlier == 0, 1], c='white')\n",
    "c = plt.scatter(X[is_inlier == 1, 0], X[is_inlier == 1, 1], c='black')\n",
    "plt.axis('tight')\n",
    "plt.legend([a.collections[0], b, c],\n",
    "           ['learned decision function', 'outliers', 'inliers'],\n",
    "           prop=matplotlib.font_manager.FontProperties(size=11))\n",
    "plt.xlim((-7, 7))\n",
    "plt.ylim((-7, 7))\n",
    "plt.show()"
   ]
  },
  {
   "cell_type": "code",
   "execution_count": 658,
   "metadata": {},
   "outputs": [
    {
     "name": "stdout",
     "output_type": "stream",
     "text": [
      "           date  hits_today  feedback_click_today  choosen_add_today  \\\n",
      "1    2019-02-03      387178                     0                 51   \n",
      "23   2019-02-25     1296035                     5                234   \n",
      "41   2019-03-15     1257538                     3                216   \n",
      "47   2019-03-21      168887                    16                 29   \n",
      "53   2019-03-27      144456                    26                 54   \n",
      "76   2019-04-19      887972                   179                293   \n",
      "142  2019-06-24     1011186                   123                323   \n",
      "152  2019-07-04      937404                   222                248   \n",
      "\n",
      "     choosen_remove_today  size_table_click_today  banner_click_today  \\\n",
      "1                       8                       0                   0   \n",
      "23                     34                       0                  65   \n",
      "41                     26                       8                  13   \n",
      "47                      1                      24                  16   \n",
      "53                      3                      33                  61   \n",
      "76                     10                     272                 739   \n",
      "142                    23                     118                 179   \n",
      "152                    31                     345                 329   \n",
      "\n",
      "     purchases_event_today  remove_events_today  checkout_events_today  \\\n",
      "1                       48                    0                   1103   \n",
      "23                     150                   18                   2900   \n",
      "41                     209                    0                   3364   \n",
      "47                       7                    4                    128   \n",
      "53                      21                    6                    168   \n",
      "76                     190                   84                   2145   \n",
      "142                    239                  136                   2373   \n",
      "152                    287                  169                   2810   \n",
      "\n",
      "     detail_events_today  add_events_today  click_events_today  \\\n",
      "1                   2065              87.0                2062   \n",
      "23                 18580             920.0                5555   \n",
      "41                 18507             859.0                4834   \n",
      "47                  1773              80.0                 568   \n",
      "53                  2484              99.0                 866   \n",
      "76                 29679              60.0                8445   \n",
      "142                19646            1005.0                4749   \n",
      "152                20703             969.0                5178   \n",
      "\n",
      "     sessions_today  ball_click_today  form_send_today  seen_vertical_today  \\\n",
      "1              7601                 3               81                  586   \n",
      "23            18486                19              226                  251   \n",
      "41            17667                18              180                  230   \n",
      "47             1371                 0                8                   19   \n",
      "53             1852                 2               31                   24   \n",
      "76            13768                19              616                  161   \n",
      "142           13772                12              263                19112   \n",
      "152           13934                19              292                20994   \n",
      "\n",
      "     fast_view_today  transaction_revenue_today  \n",
      "1                783                  1066500.0  \n",
      "23              2521                  3265570.0  \n",
      "41              2413                  4620090.0  \n",
      "47                31                   145910.0  \n",
      "53                28                   362090.0  \n",
      "76               219                  4048962.0  \n",
      "142              184                  3873570.0  \n",
      "152              190                  5483480.0  \n"
     ]
    }
   ],
   "source": [
    "#printing the anomalies\n",
    "\n",
    "print (train_df[is_inlier == 0])"
   ]
  },
  {
   "cell_type": "code",
   "execution_count": 659,
   "metadata": {},
   "outputs": [],
   "source": [
    "#Dropping the anomalies\n",
    "\n",
    "df1 = train_df[is_inlier != 0]"
   ]
  },
  {
   "cell_type": "code",
   "execution_count": 660,
   "metadata": {},
   "outputs": [
    {
     "name": "stdout",
     "output_type": "stream",
     "text": [
      "hits_today                   0.558454\n",
      "feedback_click_today         0.437832\n",
      "choosen_add_today            0.554726\n",
      "choosen_remove_today         0.090817\n",
      "size_table_click_today       0.426250\n",
      "banner_click_today           0.436169\n",
      "purchases_event_today        0.648623\n",
      "remove_events_today          0.597697\n",
      "checkout_events_today        0.345688\n",
      "detail_events_today          0.858299\n",
      "add_events_today             1.000000\n",
      "click_events_today           0.688318\n",
      "sessions_today               0.493855\n",
      "ball_click_today             0.219938\n",
      "form_send_today              0.401294\n",
      "seen_vertical_today          0.253269\n",
      "fast_view_today             -0.127680\n",
      "transaction_revenue_today    0.331981\n",
      "Name: add_events_today, dtype: float64\n"
     ]
    }
   ],
   "source": [
    "#making correlation table to determine which variables are crucial for the analysis\n",
    "\n",
    "cols = df.columns\n",
    "corr_cols = cols.drop(['date'])\n",
    "corr_matrix = train_df1[corr_cols].corr()\n",
    "corr_add_events = corr_matrix.loc['add_events_today']\n",
    "print(corr_add_events)"
   ]
  },
  {
   "cell_type": "code",
   "execution_count": 661,
   "metadata": {},
   "outputs": [],
   "source": [
    "#assuming that correlation more than 0.5 is considered strong. These columns will be needed when building final data predictions\n",
    "cols = corr_add_events[corr_add_events>0.5].index\n",
    "cols = cols[cols!= 'add_events_today']\n"
   ]
  },
  {
   "cell_type": "code",
   "execution_count": 667,
   "metadata": {
    "scrolled": true
   },
   "outputs": [
    {
     "name": "stdout",
     "output_type": "stream",
     "text": [
      "Index(['hits_today', 'choosen_add_today', 'purchases_event_today',\n",
      "       'remove_events_today', 'detail_events_today', 'click_events_today'],\n",
      "      dtype='object')\n"
     ]
    }
   ],
   "source": [
    "print(cols)"
   ]
  },
  {
   "cell_type": "markdown",
   "metadata": {},
   "source": [
    "# Choosing from different machine learning models"
   ]
  },
  {
   "cell_type": "code",
   "execution_count": 663,
   "metadata": {},
   "outputs": [],
   "source": [
    "from sklearn.neighbors import KNeighborsRegressor\n",
    "from sklearn.metrics import mean_squared_error\n",
    "from sklearn.model_selection import cross_val_score, KFold\n",
    "from sklearn.neighbors import KNeighborsClassifier\n",
    "from sklearn.ensemble import RandomForestClassifier\n",
    "from sklearn.linear_model import LinearRegression"
   ]
  },
  {
   "cell_type": "code",
   "execution_count": 664,
   "metadata": {},
   "outputs": [],
   "source": [
    "model_rfc = RandomForestClassifier()\n",
    "model_knc = KNeighborsClassifier()\n",
    "model_knn = KNeighborsRegressor()\n",
    "model_lr = LinearRegression()"
   ]
  },
  {
   "cell_type": "code",
   "execution_count": 671,
   "metadata": {},
   "outputs": [
    {
     "name": "stdout",
     "output_type": "stream",
     "text": [
      "RandomForestClassifier(bootstrap=True, class_weight=None, criterion='gini',\n",
      "            max_depth=None, max_features='auto', max_leaf_nodes=None,\n",
      "            min_impurity_decrease=0.0, min_impurity_split=None,\n",
      "            min_samples_leaf=1, min_samples_split=2,\n",
      "            min_weight_fraction_leaf=0.0, n_estimators='warn', n_jobs=None,\n",
      "            oob_score=False, random_state=None, verbose=0,\n",
      "            warm_start=False) rmses =  [ 82.00406494  98.95840877 117.03948641  93.38370972  85.28228987] avg_rmse = 95.33359194291158\n",
      "KNeighborsClassifier(algorithm='auto', leaf_size=30, metric='minkowski',\n",
      "           metric_params=None, n_jobs=None, n_neighbors=5, p=2,\n",
      "           weights='uniform') rmses =  [128.85599197 178.13019583 152.1777545  159.30982609 142.16491153] avg_rmse = 152.12773598432403\n",
      "KNeighborsRegressor(algorithm='auto', leaf_size=30, metric='minkowski',\n",
      "          metric_params=None, n_jobs=None, n_neighbors=5, p=2,\n",
      "          weights='uniform') rmses =  [ 94.43291799 109.29192712 125.88149326 104.5266968  104.46244004] avg_rmse = 107.71909504227207\n",
      "LinearRegression(copy_X=True, fit_intercept=True, n_jobs=None,\n",
      "         normalize=False) rmses =  [57.02057444 81.17066607 48.74541456 47.54763145 66.36881056] avg_rmse = 60.17061941399006\n"
     ]
    },
    {
     "name": "stderr",
     "output_type": "stream",
     "text": [
      "e:\\ProgramData\\Anaconda3\\lib\\site-packages\\sklearn\\ensemble\\forest.py:246: FutureWarning: The default value of n_estimators will change from 10 in version 0.20 to 100 in 0.22.\n",
      "  \"10 in version 0.20 to 100 in 0.22.\", FutureWarning)\n",
      "e:\\ProgramData\\Anaconda3\\lib\\site-packages\\sklearn\\ensemble\\forest.py:246: FutureWarning: The default value of n_estimators will change from 10 in version 0.20 to 100 in 0.22.\n",
      "  \"10 in version 0.20 to 100 in 0.22.\", FutureWarning)\n",
      "e:\\ProgramData\\Anaconda3\\lib\\site-packages\\sklearn\\ensemble\\forest.py:246: FutureWarning: The default value of n_estimators will change from 10 in version 0.20 to 100 in 0.22.\n",
      "  \"10 in version 0.20 to 100 in 0.22.\", FutureWarning)\n",
      "e:\\ProgramData\\Anaconda3\\lib\\site-packages\\sklearn\\ensemble\\forest.py:246: FutureWarning: The default value of n_estimators will change from 10 in version 0.20 to 100 in 0.22.\n",
      "  \"10 in version 0.20 to 100 in 0.22.\", FutureWarning)\n",
      "e:\\ProgramData\\Anaconda3\\lib\\site-packages\\sklearn\\ensemble\\forest.py:246: FutureWarning: The default value of n_estimators will change from 10 in version 0.20 to 100 in 0.22.\n",
      "  \"10 in version 0.20 to 100 in 0.22.\", FutureWarning)\n"
     ]
    }
   ],
   "source": [
    "# making divisions within the dataset to determine which model fits better to the data\n",
    "def model_choose(models = [model_rfc,model_knc,model_knn,model_lr]):\n",
    "    for model in models:\n",
    "        kf = KFold(5, shuffle=True, random_state=1)\n",
    "        mses = cross_val_score(model, df1[cols], df1['add_events_today'], scoring=\"neg_mean_squared_error\", cv=kf)\n",
    "        rmses = np.sqrt(np.absolute(mses))\n",
    "        avg_rmse = np.mean(rmses)\n",
    "        print(model,'rmses = ',rmses, 'avg_rmse =', avg_rmse)\n",
    "        \n",
    "model_choose()"
   ]
  },
  {
   "cell_type": "markdown",
   "metadata": {},
   "source": [
    "* It looks like linear regression has shown the best result of average R squared that is why it is chosen as final predicting model"
   ]
  },
  {
   "cell_type": "markdown",
   "metadata": {},
   "source": [
    "# Making final predictions with linear regression"
   ]
  },
  {
   "cell_type": "code",
   "execution_count": 669,
   "metadata": {},
   "outputs": [
    {
     "name": "stdout",
     "output_type": "stream",
     "text": [
      "[477.9747199  314.24984055 339.45970992 415.87063792 454.63971361\n",
      " 778.53939884 506.33641101 477.18690931 282.41288387 307.01270812\n",
      " 487.13324195 571.13515787]\n"
     ]
    }
   ],
   "source": [
    "\n",
    "features = df1[cols]\n",
    "test_features = test_df[cols]\n",
    "\n",
    "target = df1[\"add_events_today\"]\n",
    "model_lr.fit(features, target)\n",
    "train_predictions = model_lr.predict(features)\n",
    "test_predictions = model_lr.predict(test_features)\n",
    "print(test_predictions)"
   ]
  },
  {
   "cell_type": "code",
   "execution_count": null,
   "metadata": {},
   "outputs": [],
   "source": []
  }
 ],
 "metadata": {
  "kernelspec": {
   "display_name": "Python 3",
   "language": "python",
   "name": "python3"
  },
  "language_info": {
   "codemirror_mode": {
    "name": "ipython",
    "version": 3
   },
   "file_extension": ".py",
   "mimetype": "text/x-python",
   "name": "python",
   "nbconvert_exporter": "python",
   "pygments_lexer": "ipython3",
   "version": "3.7.1"
  }
 },
 "nbformat": 4,
 "nbformat_minor": 2
}
